{
 "cells": [
  {
   "cell_type": "code",
   "execution_count": 1,
   "id": "10ee742a",
   "metadata": {},
   "outputs": [],
   "source": [
    "import cv2 \n",
    "import numpy as np "
   ]
  },
  {
   "cell_type": "code",
   "execution_count": null,
   "id": "931a386a",
   "metadata": {},
   "outputs": [],
   "source": [
    "def nothing(x):\n",
    "    pass"
   ]
  },
  {
   "cell_type": "code",
   "execution_count": 3,
   "id": "1f2b13e7",
   "metadata": {},
   "outputs": [],
   "source": [
    "img = cv2.imread(\"3.png\")\n",
    "#TRACKBAR PENVCERESİ ACILDI\n",
    "cv2.namedWindow(\"TrackBar\")\n",
    "# penceredeki kızaklar oluşturuldu\n",
    "cv2.createTrackbar(\"LH\",\"TrackBar\" ,0,179,nothing )\n",
    "cv2.createTrackbar(\"LS\",\"TrackBar\",0,255,nothing)\n",
    "cv2.createTrackbar(\"LV\",\"TrackBar\",0,255,nothing)\n",
    "cv2.createTrackbar(\"UH\",\"TrackBar\",0,179,nothing)\n",
    "cv2.createTrackbar(\"US\",\"TrackBar\",0,255,nothing)\n",
    "cv2.createTrackbar(\"UV\",\"TrackBar\",0,255,nothing)\n",
    "while 1:\n",
    "    \n",
    "    #frame = cv2.resize(frame, (640,480))\n",
    "    hsv = cv2.cvtColor(img , cv2.COLOR_BGR2HSV)\n",
    "    \n",
    "    #kızaklardan veriler alınır\n",
    "    lh = cv2.getTrackbarPos(\"LH\",\"TrackBar\")\n",
    "    ls = cv2.getTrackbarPos(\"LS\",\"TrackBar\")\n",
    "    lv = cv2.getTrackbarPos(\"LV\",\"TrackBar\")\n",
    "    uh = cv2.getTrackbarPos(\"UH\",\"TrackBar\")\n",
    "    us = cv2.getTrackbarPos(\"US\",\"TrackBar\")\n",
    "    uv = cv2.getTrackbarPos(\"UV\",\"TrackBar\")    \n",
    "    \n",
    "    lower_blue = np.array([lh,ls,lv])\n",
    "    upper_blue = np.array([uh,us,uv])\n",
    "    \n",
    "    mask = cv2.inRange(hsv , lower_blue , upper_blue) #  sadece bu aralıktaki piksellerin beyaz (255), diğerlerinin siyah (0) olduğu bir maske oluşturur.\n",
    "    bitwise = cv2.bitwise_and(img , img , mask = mask)\n",
    "    \n",
    "    cv2.imshow(\"frame\" , img)\n",
    "    cv2.imshow(\"mask\",mask)\n",
    "    cv2.imshow(\"bitwise\",bitwise)    \n",
    "        \n",
    "    if cv2.waitKey(20) & 0xFF ==ord(\"q\"):\n",
    "        break\n",
    "    \n",
    "cv2.destroyAllWindows()    "
   ]
  },
  {
   "cell_type": "code",
   "execution_count": null,
   "id": "720f26bb",
   "metadata": {},
   "outputs": [],
   "source": []
  }
 ],
 "metadata": {
  "kernelspec": {
   "display_name": "Python 3",
   "language": "python",
   "name": "python3"
  },
  "language_info": {
   "codemirror_mode": {
    "name": "ipython",
    "version": 3
   },
   "file_extension": ".py",
   "mimetype": "text/x-python",
   "name": "python",
   "nbconvert_exporter": "python",
   "pygments_lexer": "ipython3",
   "version": "3.11.4"
  }
 },
 "nbformat": 4,
 "nbformat_minor": 5
}
